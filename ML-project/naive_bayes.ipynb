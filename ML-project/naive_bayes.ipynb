{
 "cells": [
  {
   "cell_type": "code",
   "execution_count": 6,
   "metadata": {},
   "outputs": [],
   "source": [
    "import numpy as np\n",
    "from sklearn.model_selection import train_test_split\n",
    "from sklearn.naive_bayes import (GaussianNB, MultinomialNB)\n",
    "from sklearn.metrics import classification_report\n",
    "from time import perf_counter\n",
    "\n",
    "from converters import convert_from_file"
   ]
  },
  {
   "cell_type": "code",
   "execution_count": 7,
   "metadata": {},
   "outputs": [],
   "source": [
    "x_train = convert_from_file('train-images.idx3-ubyte')\n",
    "y_train = convert_from_file('train-labels.idx1-ubyte')\n",
    "x_train = x_train.reshape(x_train.shape[0], -1)\n",
    "\n",
    "x_train, x_val, y_train, y_val = train_test_split(x_train, y_train, test_size=0.1, random_state=42)\n",
    "\n",
    "x_test = convert_from_file('t10k-images.idx3-ubyte')\n",
    "y_test = convert_from_file('t10k-labels.idx1-ubyte')\n",
    "x_test = x_test.reshape(x_test.shape[0], -1)"
   ]
  },
  {
   "cell_type": "code",
   "execution_count": 8,
   "metadata": {},
   "outputs": [
    {
     "name": "stdout",
     "output_type": "stream",
     "text": [
      "Gaussian Naive Bayes classifier achieved accuracy of 56.40%\n",
      "Spent 1.0687 seconds\n"
     ]
    }
   ],
   "source": [
    "gauss_clf = GaussianNB()\n",
    "tic = perf_counter()\n",
    "gauss_clf.fit(x_train, y_train)\n",
    "toc = perf_counter()\n",
    "score = gauss_clf.score(x_val, y_val)\n",
    "print('Gaussian Naive Bayes classifier achieved accuracy of %.2f%%' % (score * 100))\n",
    "print('Spent %.4f seconds' % (toc - tic))"
   ]
  },
  {
   "cell_type": "code",
   "execution_count": 9,
   "metadata": {},
   "outputs": [
    {
     "name": "stdout",
     "output_type": "stream",
     "text": [
      "Multinomial Naive Bayes classifier achieved accuracy of 83.00%\n",
      "Spent 0.5951 seconds\n"
     ]
    }
   ],
   "source": [
    "# multinomial classifier with Laplace smoothing\n",
    "multinomial_clf = MultinomialNB(alpha=1.0)\n",
    "tic = perf_counter()\n",
    "multinomial_clf.fit(x_train, y_train)\n",
    "toc = perf_counter()\n",
    "score = multinomial_clf.score(x_val, y_val)\n",
    "print('Multinomial Naive Bayes classifier achieved accuracy of %.2f%%' % (score * 100))\n",
    "print('Spent %.4f seconds' % (toc - tic))"
   ]
  },
  {
   "cell_type": "code",
   "execution_count": 10,
   "metadata": {},
   "outputs": [
    {
     "name": "stdout",
     "output_type": "stream",
     "text": [
      "              precision    recall  f1-score   support\n",
      "\n",
      "           0       0.92      0.93      0.93       980\n",
      "           1       0.91      0.93      0.92      1135\n",
      "           2       0.90      0.83      0.86      1032\n",
      "           3       0.80      0.85      0.82      1010\n",
      "           4       0.85      0.75      0.79       982\n",
      "           5       0.86      0.66      0.75       892\n",
      "           6       0.89      0.90      0.89       958\n",
      "           7       0.94      0.84      0.88      1028\n",
      "           8       0.66      0.80      0.73       974\n",
      "           9       0.71      0.85      0.78      1009\n",
      "\n",
      "    accuracy                           0.84     10000\n",
      "   macro avg       0.84      0.83      0.84     10000\n",
      "weighted avg       0.85      0.84      0.84     10000\n",
      "\n"
     ]
    }
   ],
   "source": [
    "# multinomial classifier is better, so run it on test set\n",
    "predictions = multinomial_clf.predict(x_test)\n",
    "print(classification_report(y_test, predictions))"
   ]
  },
  {
   "cell_type": "code",
   "execution_count": null,
   "metadata": {},
   "outputs": [],
   "source": []
  }
 ],
 "metadata": {
  "kernelspec": {
   "display_name": "Python 3",
   "language": "python",
   "name": "python3"
  },
  "language_info": {
   "codemirror_mode": {
    "name": "ipython",
    "version": 3
   },
   "file_extension": ".py",
   "mimetype": "text/x-python",
   "name": "python",
   "nbconvert_exporter": "python",
   "pygments_lexer": "ipython3",
   "version": "3.6.9"
  }
 },
 "nbformat": 4,
 "nbformat_minor": 2
}
