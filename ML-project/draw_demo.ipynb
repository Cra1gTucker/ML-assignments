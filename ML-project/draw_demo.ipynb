{
 "cells": [
  {
   "cell_type": "code",
   "execution_count": 1,
   "metadata": {},
   "outputs": [],
   "source": [
    "from ipywidgets import Image, Button, interact, ColorPicker, IntSlider, link, AppLayout, HBox\n",
    "from ipycanvas import MultiCanvas, hold_canvas\n",
    "from math import pi\n",
    "from sklearn import svm\n",
    "import numpy as np\n",
    "import matplotlib.pyplot as plt\n",
    "import joblib\n",
    "\n",
    "from deskew import deskew\n",
    "\n",
    "kernel_svm = joblib.load('mnist_rbf_svm_model.pkl')"
   ]
  },
  {
   "cell_type": "code",
   "execution_count": 2,
   "metadata": {},
   "outputs": [
    {
     "data": {
      "application/vnd.jupyter.widget-view+json": {
       "model_id": "a50fe847b1eb4078bdababd3847cba0d",
       "version_major": 2,
       "version_minor": 0
      },
      "text/plain": [
       "AppLayout(children=(HBox(children=(IntSlider(value=15, description='Radius:', max=30, min=5), Button(descripti…"
      ]
     },
     "metadata": {},
     "output_type": "display_data"
    }
   ],
   "source": [
    "canvas = MultiCanvas(3, width=450, height=450, sync_image_data=True)\n",
    "\n",
    "background_layer = canvas[0]\n",
    "drawing_layer = canvas[1]\n",
    "interaction_layer = canvas[2]\n",
    "\n",
    "drawing = False\n",
    "\n",
    "def draw_circle(canvas, point, radius):\n",
    "    canvas.fill_arc(point[0], point[1], radius, 0, 2 * pi)\n",
    "\n",
    "def on_mouse_down(x, y):\n",
    "    global drawing\n",
    "    if not drawing:\n",
    "        draw_circle(interaction_layer, (x, y), radius_slider.value)    \n",
    "        drawing = True\n",
    "\n",
    "radius_slider = IntSlider(description='Radius:', value=15, min=5, max=30)\n",
    "\n",
    "def on_mouse_move(x, y):\n",
    "    if not drawing:\n",
    "        return\n",
    "\n",
    "    with hold_canvas(canvas):\n",
    "        draw_circle(interaction_layer, (x, y), radius_slider.value)\n",
    "        \n",
    "def on_mouse_up(x, y):\n",
    "    global drawing\n",
    "    if drawing:\n",
    "        drawing_layer.draw_image(interaction_layer, 0, 0)\n",
    "        interaction_layer.clear()\n",
    "        drawing = False\n",
    "\n",
    "interaction_layer.on_mouse_down(on_mouse_down)\n",
    "interaction_layer.on_mouse_move(on_mouse_move)\n",
    "interaction_layer.on_mouse_up(on_mouse_up)\n",
    "\n",
    "background_layer.stroke_rect(0, 0, 450, 450)\n",
    "\n",
    "drawing_layer.fill_style = '#000000'\n",
    "interaction_layer.fill_style = '#000000'\n",
    "\n",
    "clear_button = Button(description='Clear Image')\n",
    "clear_button.on_click(lambda x: drawing_layer.clear())\n",
    "\n",
    "AppLayout(center=canvas, footer=HBox((radius_slider, clear_button)))\n"
   ]
  },
  {
   "cell_type": "code",
   "execution_count": 6,
   "metadata": {},
   "outputs": [
    {
     "data": {
      "image/png": "[encoded data removed]",
      "text/plain": [
       "<Figure size 360x180 with 2 Axes>"
      ]
     },
     "metadata": {
      "needs_background": "light"
     },
     "output_type": "display_data"
    }
   ],
   "source": [
    "raw_img = drawing_layer.get_image_data(1, 1, 448, 448)\n",
    "\n",
    "test_img = []\n",
    "area_value = 0\n",
    "for test_line in range(28):\n",
    "    for test_row in range(28):\n",
    "        for area_line in range(16):\n",
    "            area_value = np.count_nonzero(raw_img[16 * test_line + area_line][test_row * 16:test_row * 16 + 16],\n",
    "                                       axis=0)[3] + area_value\n",
    "        if area_value == 256:\n",
    "            area_value = 255\n",
    "        test_img.append(area_value)\n",
    "        area_value = 0\n",
    "\n",
    "plt.figure(figsize=(5, 2.5))\n",
    "deskewed_array = deskew((np.array(test_img)/255.0).reshape(28, 28))\n",
    "prediction = kernel_svm.predict([deskewed_array.reshape(784)])[0]\n",
    "img = plt.subplot(1, 2, 1)\n",
    "img.set_xlabel('Original Input')\n",
    "img.imshow(np.array(test_img).reshape(28, 28), cmap=plt.cm.binary)\n",
    "img_deskew = plt.subplot(1, 2, 2)\n",
    "img_deskew.set_xlabel('Deskewed Input')\n",
    "img_deskew.imshow(deskewed_array, cmap=plt.cm.binary)\n",
    "plt.suptitle('Predicted: %d' % prediction, fontsize=16)\n",
    "plt.show()"
   ]
  },
  {
   "cell_type": "code",
   "execution_count": null,
   "metadata": {},
   "outputs": [],
   "source": []
  }
 ],
 "metadata": {
  "kernelspec": {
   "display_name": "Python 3",
   "language": "python",
   "name": "python3"
  },
  "language_info": {
   "codemirror_mode": {
    "name": "ipython",
    "version": 3
   },
   "file_extension": ".py",
   "mimetype": "text/x-python",
   "name": "python",
   "nbconvert_exporter": "python",
   "pygments_lexer": "ipython3",
   "version": "3.6.9"
  }
 },
 "nbformat": 4,
 "nbformat_minor": 2
}
